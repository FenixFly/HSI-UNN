{
 "cells": [
  {
   "cell_type": "markdown",
   "metadata": {},
   "source": [
    "# Урок 1. Введение\n",
    "\n",
    "Для того, чтобы работать с мультиспектральными изображениями, изначально мы будем использовать библиотеку NumPy."
   ]
  },
  {
   "cell_type": "markdown",
   "metadata": {},
   "source": [
    "Простейшее мультиспектральное изображение представляет представляет собой трехмерную матрицу. Как правило, для хранения одного пикселя мультиспектральных изображений используется двухбайтовое беззнаковое целое."
   ]
  },
  {
   "cell_type": "code",
   "execution_count": null,
   "metadata": {},
   "outputs": [],
   "source": [
    "import numpy as np\n",
    "img = np.load('../datasets/numpy/92AV3C.npy')\n",
    "print('Dataset: size {}, type {} '.format(img.shape, img.dtype))"
   ]
  },
  {
   "cell_type": "markdown",
   "metadata": {},
   "source": [
    "## Отображение на экране\n",
    "Для того, чтобы посмотреть мультиспектральное изображение, мы можем взять срез по третьей оси массива. \n",
    "Для отрисовки на экране очень часто используется библиотека PyPlot."
   ]
  },
  {
   "cell_type": "code",
   "execution_count": null,
   "metadata": {},
   "outputs": [],
   "source": [
    "import matplotlib.pyplot as plt\n",
    "\n",
    "slice_num = 1\n",
    "slice_img = img[:,:,slice_num]\n",
    "\n",
    "imgplot = plt.imshow(slice_img, cmap=\"gray\")\n",
    "plt.show()"
   ]
  },
  {
   "cell_type": "markdown",
   "metadata": {},
   "source": [
    " Выведем все каналы в цикле через один: 0, 2, 4..."
   ]
  },
  {
   "cell_type": "code",
   "execution_count": null,
   "metadata": {},
   "outputs": [],
   "source": [
    "for iz in range(0, img.shape[2], 2):\n",
    "    slice_img = img[:,:,iz]\n",
    "    imgplot = plt.imshow(slice_img, cmap=\"gray\")\n",
    "    plt.show() "
   ]
  },
  {
   "cell_type": "markdown",
   "metadata": {},
   "source": [
    "Сохраним изображение в файл.\n",
    "\n",
    "Как мы помним, наш массив состоит из двух байтовых чисел, а самые распространные форматы - однобайтовые. \n",
    "\n",
    "У нас есть два варианта сохранения: \n",
    "- если мы хотим сохранить красивую картинку, то лучше использховать PNG. При этом истинные значения в данных преобразуются в оттенки серого цвета.\n",
    "- если мы хотим сохранить данные неизменными, то лучше сохранять в TIFF. Однако в этом случае стандартные просмотрщики могут не отображать изображение."
   ]
  },
  {
   "cell_type": "code",
   "execution_count": null,
   "metadata": {},
   "outputs": [],
   "source": [
    "slice_num = 2\n",
    "slice_img = img[:,:,slice_num]\n",
    "\n",
    "import matplotlib\n",
    "matplotlib.image.imsave('slice.png', slice_img, cmap = 'gray')\n",
    "\n",
    "from PIL import Image\n",
    "im = Image.fromarray(slice_img)\n",
    "im.save('slice.tiff')"
   ]
  },
  {
   "cell_type": "markdown",
   "metadata": {},
   "source": [
    "## Получение среза по всем каналам\n",
    "Библиотека numpy позволяет очень просто получить срез по всем каналам изображения для одного пикселя. "
   ]
  },
  {
   "cell_type": "code",
   "execution_count": null,
   "metadata": {},
   "outputs": [],
   "source": [
    "import matplotlib.pyplot as plt\n",
    "\n",
    "x_pos = 100\n",
    "y_pos = 100\n",
    "\n",
    "slice_img = img[x_pos,y_pos,:]\n",
    "\n",
    "plt.title('Pixel [{},{}]'.format(x_pos, y_pos))\n",
    "plt.plot(slice_img)\n",
    "plt.ylabel('Pixel values')\n",
    "plt.show()"
   ]
  }
 ],
 "metadata": {
  "kernelspec": {
   "display_name": "Python 3",
   "language": "python",
   "name": "python3"
  },
  "language_info": {
   "codemirror_mode": {
    "name": "ipython",
    "version": 3
   },
   "file_extension": ".py",
   "mimetype": "text/x-python",
   "name": "python",
   "nbconvert_exporter": "python",
   "pygments_lexer": "ipython3",
   "version": "3.6.5"
  }
 },
 "nbformat": 4,
 "nbformat_minor": 2
}
